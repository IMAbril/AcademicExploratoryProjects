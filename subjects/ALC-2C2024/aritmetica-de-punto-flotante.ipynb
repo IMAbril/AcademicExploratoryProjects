{
 "cells": [
  {
   "cell_type": "markdown",
   "id": "715dae6a-14da-4f31-bba5-bccc3903f038",
   "metadata": {},
   "source": [
    "# Aritmética de punto flotante y números de máquina\n",
    "\n",
    "La aritmética de punto flotante es una representación numérica que permite expresar un rango amplio de valores, incluyendo números extremadamente pequeños y grandes. En lugar de usar una representación fija para los números, como en la aritmética entera, la aritmética de punto flotante emplea una forma similar a la notación científica, donde los números se representan como $m×b^e$, siendo $m$ la mantisa, $b$ la base y $e$ el exponente. En la computadora usamos base 2.\n",
    "\n",
    "Este tipo de representación es especialmente útil en cálculos numéricos y computacionales, ya que permite manejar una gran diversidad de magnitudes, pero aún tiene una capacidad de representación limitada la cual introduce errores de redondeo debido a la cantidad finita de dígitos que se pueden almacenar, lo que puede afectar la precisión de las operaciones.\n",
    "\n",
    "En esta práctica, exploraremos algunos de los aspectos clave de la aritmética de punto flotante, tales como:\n",
    "    \n",
    "    -La diferencia entre el resultado esperado y el obtenido en ciertas operaciones.\n",
    "    -Los efectos de la precisión de los números en la suma y resta de cantidades muy pequeñas frente a otras más grandes.\n",
    "    -La acumulación de errores debido a la limitación de la precisión en las representaciones de punto flotante.\n",
    "    \n",
    "A través de estos ejercicios, veremos cómo ciertos problemas numéricos comunes, como la **cancelación catastrófica** y la **propagación de errores de redondeo**, pueden afectar el resultado final de las operaciones."
   ]
  },
  {
   "cell_type": "markdown",
   "id": "593eadb2-d087-4f0f-8e62-5a8ba22371a1",
   "metadata": {},
   "source": [
    "## Ejercicio 7. Algunos experimentos\n",
    "Realizar las siguientes operaciones en Python. En todos los casos, pensar: ¿cuál es el resultado esperado? ¿coincide con el obtenido? ¿a qué se debe el problema (si lo hay)? (Notamos $ε$ al épsilon de la máquina. Puede obtenerse importando la librería numpy como np y ejecutando el comando np.finfo (np.float).eps)\n",
    "\n",
    "### El épsilon de máquina\n",
    "El épsilon de máquina ($ε$) es un concepto fundamental en la aritmética de punto flotante. Representa el menor número positivo que, cuando se suma a 1, produce un resultado distinto de 1 debido a las limitaciones de precisión de la representación numérica en una computadora. En otras palabras, es una medida de la precisión de los números de punto flotante y define el límite a partir del cual dos números son indistinguibles en el sistema.\n",
    "\n",
    "Matemáticamente, el épsilon de máquina es el menor número $ε$ tal que: **$1+ε>1$**\n",
    "en la representación de punto flotante del sistema.\n",
    "\n",
    "#### ¿Por qué es importante?\n",
    "El épsilon de máquina es clave para entender los errores de redondeo en cálculos numéricos. En muchas operaciones, especialmente cuando trabajamos con números muy grandes o muy pequeños, los errores de redondeo pueden acumularse y afectar el resultado final. El épsilon de máquina nos da una idea de cuán precisa puede ser una operación aritmética en la computadora. El épsilon de máquina es crucial para detectar errores de precisión en cálculos numéricos y para diseñar algoritmos que sean estables frente a esos errores. Por ejemplo, al comparar si dos números son iguales en sistemas de punto flotante, no es adecuado usar $==$, sino verificar si la diferencia entre ellos es menor que el épsilon de máquina.\n",
    "#### Valor del épsilon de máquina\n",
    "En el caso de números de punto flotante de precisión doble (que son los más comunes en sistemas modernos), el épsilon de máquina suele ser alrededor de $2.22×10^{−16}$. Este valor varía dependiendo del formato de representación de punto flotante (simple, doble precisión, etc.).\n"
   ]
  },
  {
   "cell_type": "code",
   "execution_count": 3,
   "id": "93fe8633-786d-4887-9194-c76ae607aa17",
   "metadata": {},
   "outputs": [
    {
     "name": "stdout",
     "output_type": "stream",
     "text": [
      "e = 2.220446049250313e-16\n"
     ]
    }
   ],
   "source": [
    "import numpy as np\n",
    "import math\n",
    "import matplotlib.pyplot as plt\n",
    "epsilon = np.finfo(float).eps\n",
    "print(f'e = {epsilon}')"
   ]
  },
  {
   "cell_type": "code",
   "execution_count": 33,
   "id": "e729c52e-2507-4cc9-ad24-dce3fb9c770d",
   "metadata": {},
   "outputs": [
    {
     "name": "stdout",
     "output_type": "stream",
     "text": [
      "p = 10000000000000000000000000000000000 \n",
      "q = 1 \n",
      "p+q-p = 1\n"
     ]
    }
   ],
   "source": [
    "#a El resultado (1) coincide con el esperado (1)\n",
    "p= 1*(10**34)\n",
    "q= 1\n",
    "print(f'p = {p} \\nq = {q} \\np+q-p = {p+q-p}')"
   ]
  },
  {
   "cell_type": "code",
   "execution_count": 51,
   "id": "1473545b-83c8-4852-b327-36a7d149c3e6",
   "metadata": {},
   "outputs": [
    {
     "name": "stdout",
     "output_type": "stream",
     "text": [
      "p = 100 \n",
      "q = 1e-15 \n",
      "(p+q)+q = 100.0 \n",
      "((p+q)+q)+q = 100.0 \n",
      "p+2q = 100.0 \n",
      "p+3q = 100.0\n"
     ]
    }
   ],
   "source": [
    "#b El resultado (100.0) no coincide con el esperado (100.000000000000002)\n",
    "#El resultado (100.0) no coincide con el esperado (100.000000000000003)\n",
    "p=100 \n",
    "q=1*(10**(-15))\n",
    "print(f'p = {p} \\nq = {q} \\n(p+q)+q = {(p+q)+q} \\n((p+q)+q)+q = {((p+q)+q)+q} \\np+2q = {p+(2*q)} \\np+3q = {p+(3*q)}')"
   ]
  },
  {
   "cell_type": "code",
   "execution_count": 55,
   "id": "d5662d81-b64e-4d24-ae8b-5c35b2d49528",
   "metadata": {},
   "outputs": [
    {
     "name": "stdout",
     "output_type": "stream",
     "text": [
      "0.1+0.2==0.3 :: False\n"
     ]
    }
   ],
   "source": [
    "#c El resultado (false) no coincide con el esperado (true)\n",
    "print(f'0.1+0.2==0.3 :: {0.1+0.2==0.3}')"
   ]
  },
  {
   "cell_type": "code",
   "execution_count": 59,
   "id": "0346abb7-93c7-4d48-9cf2-d04b5b63d289",
   "metadata": {},
   "outputs": [
    {
     "name": "stdout",
     "output_type": "stream",
     "text": [
      "0.1+0.3==0.4 :: True\n"
     ]
    }
   ],
   "source": [
    "#d El resultado (true) coincide con el esperado (true)\n",
    "print(f'0.1+0.3==0.4 :: {0.1+0.3==0.4}')"
   ]
  },
  {
   "cell_type": "code",
   "execution_count": 63,
   "id": "fa9a4b58-7c26-4a5a-8fb7-a9340bd52cb4",
   "metadata": {},
   "outputs": [
    {
     "name": "stdout",
     "output_type": "stream",
     "text": [
      "1e-323\n"
     ]
    }
   ],
   "source": [
    "#e El resultado coincide con el esperado\n",
    "print(1*10**(-323))"
   ]
  },
  {
   "cell_type": "code",
   "execution_count": 67,
   "id": "c1f1a377-9265-4321-aa0c-debcc6c74a9d",
   "metadata": {},
   "outputs": [
    {
     "name": "stdout",
     "output_type": "stream",
     "text": [
      "0.0\n"
     ]
    }
   ],
   "source": [
    "#f El resultado no coincide con el esperado\n",
    "print(1*10**(-324))"
   ]
  },
  {
   "cell_type": "code",
   "execution_count": 73,
   "id": "c50d10c9-2461-4a75-b8b1-e82ae499c348",
   "metadata": {},
   "outputs": [
    {
     "name": "stdout",
     "output_type": "stream",
     "text": [
      "2.220446049250313e-16\n",
      "1.1102230246251565e-16\n"
     ]
    }
   ],
   "source": [
    "#g El resultado coincide con el esperado\n",
    "print(epsilon)\n",
    "print(epsilon/2)"
   ]
  },
  {
   "cell_type": "code",
   "execution_count": 75,
   "id": "87afaef6-a846-4bd8-a2ea-48fc995f8068",
   "metadata": {},
   "outputs": [
    {
     "name": "stdout",
     "output_type": "stream",
     "text": [
      "1.0\n"
     ]
    }
   ],
   "source": [
    "#h El resultado no coincide con el esperado\n",
    "ediv2 = epsilon/2\n",
    "print((1+ ediv2)+ediv2)"
   ]
  },
  {
   "cell_type": "code",
   "execution_count": 79,
   "id": "89c0aa64-ca41-40c3-9864-374cc49efeb3",
   "metadata": {},
   "outputs": [
    {
     "name": "stdout",
     "output_type": "stream",
     "text": [
      "1.0000000000000002\n"
     ]
    }
   ],
   "source": [
    "#i El resultado no coincide con el esperado\n",
    "print(1+(ediv2+ediv2))"
   ]
  },
  {
   "cell_type": "code",
   "execution_count": 83,
   "id": "baf303d6-9b23-4828-bf45-f5af392e9ba6",
   "metadata": {},
   "outputs": [
    {
     "name": "stdout",
     "output_type": "stream",
     "text": [
      "0.0\n"
     ]
    }
   ],
   "source": [
    "#j El resultado no coincide con el esperado\n",
    "print(((1+ediv2)+ediv2)-1)"
   ]
  },
  {
   "cell_type": "code",
   "execution_count": 85,
   "id": "0dbfdaa4-6bad-4f40-a7ed-e9ae41b0d290",
   "metadata": {},
   "outputs": [
    {
     "name": "stdout",
     "output_type": "stream",
     "text": [
      "2.220446049250313e-16\n"
     ]
    }
   ],
   "source": [
    "#k El resultado coincide con el esperado\n",
    "print((1+(ediv2+ediv2))-1)"
   ]
  },
  {
   "cell_type": "code",
   "execution_count": 91,
   "id": "fcaf6734-3ee3-464f-8afe-a659cd819e4a",
   "metadata": {},
   "outputs": [
    {
     "name": "stdout",
     "output_type": "stream",
     "text": [
      "-1.2246467991473533e-15\n",
      "1.964386723728472e-15\n",
      "-3.2141664592756335e-13\n",
      "-4.85682353956849e-13\n",
      "-3.3960653996302193e-11\n",
      "-2.231912181360871e-10\n",
      "5.620555424855643e-10\n",
      "-3.9082928156687315e-08\n",
      "-3.3201412914529495e-08\n",
      "-2.2393627619559233e-06\n",
      "-1.4764233087791559e-05\n",
      "-0.00026971264011324254\n",
      "-0.0026971231637969895\n",
      "-0.011346020891205282\n",
      "-0.2362090532517409\n",
      "-0.3752128900123344\n",
      "-0.8479696810401983\n",
      "-0.6416534819105048\n",
      "0.7463367130158111\n",
      "-0.3940709604247648\n",
      "-0.5808054397535704\n",
      "-0.6886746870200211\n",
      "-0.7965162588457232\n",
      "0.9301407542552305\n",
      "0.9948086285918382\n"
     ]
    }
   ],
   "source": [
    "#l No coincide con lo esperado \n",
    "for j in range(1,26):\n",
    "    print(math.sin((10**j)*math.pi))"
   ]
  },
  {
   "cell_type": "code",
   "execution_count": 113,
   "id": "40402c40-d9e7-469d-b90f-22cb7a37de88",
   "metadata": {},
   "outputs": [
    {
     "data": {
      "image/png": "[encoded data removed]",
      "text/plain": [
       "<Figure size 1000x500 with 1 Axes>"
      ]
     },
     "metadata": {},
     "output_type": "display_data"
    }
   ],
   "source": [
    "# Inicializar listas para almacenar los valores de j y los resultados de la función\n",
    "j_values = list(range(1, 26))\n",
    "y_values = []\n",
    "\n",
    "# Calcular los valores de y\n",
    "for j in j_values:\n",
    "    value = math.sin((10**j) * math.pi)\n",
    "    y_values.append(value)\n",
    "\n",
    "# Crear la gráfica\n",
    "plt.figure(figsize=(10, 5))\n",
    "plt.plot(j_values, y_values, marker='o', linestyle='-', color='b')\n",
    "plt.xlabel('j')\n",
    "plt.ylabel('sin((10^j) * pi)')\n",
    "plt.title('Gráfica de sin((10^j) * pi)')\n",
    "plt.grid(True)\n",
    "plt.show()\n"
   ]
  },
  {
   "cell_type": "code",
   "execution_count": 117,
   "id": "f49fbb5f-6169-4f38-be28-d6dc266890aa",
   "metadata": {},
   "outputs": [
    {
     "name": "stdout",
     "output_type": "stream",
     "text": [
      "1.0\n",
      "1.0\n",
      "1.0\n",
      "1.0\n",
      "1.0\n",
      "1.0\n",
      "1.0\n",
      "0.9999999999999984\n",
      "0.9999999999999916\n",
      "0.9999999999987206\n",
      "0.9999999999468543\n",
      "0.999999964819047\n",
      "0.9999949407725442\n",
      "0.9998070905094508\n",
      "0.9525593659368664\n",
      "-0.3752128900123344\n",
      "-0.8479696810401983\n",
      "-0.6416534819105048\n",
      "0.7463367130158111\n",
      "-0.3940709604247648\n",
      "-0.5808054397535704\n",
      "-0.6886746870200211\n",
      "-0.7965162588457232\n",
      "0.9301407542552305\n",
      "0.9948086285918382\n"
     ]
    }
   ],
   "source": [
    "#m No coincide con lo esperado\n",
    "pidiv2 = math.pi /2\n",
    "\n",
    "for j in range(1,26):\n",
    "    print(math.sin(pidiv2 + math.pi * (10**j)))"
   ]
  },
  {
   "cell_type": "code",
   "execution_count": 115,
   "id": "fa4595e6-eca2-45df-a4d2-96b1b5b27ebf",
   "metadata": {},
   "outputs": [
    {
     "data": {
      "image/png": "[encoded data removed]",
      "text/plain": [
       "<Figure size 1000x500 with 1 Axes>"
      ]
     },
     "metadata": {},
     "output_type": "display_data"
    }
   ],
   "source": [
    "# Inicializar listas para almacenar los valores de j y los resultados de la función\n",
    "j_values = list(range(1, 26))\n",
    "y_values = []\n",
    "\n",
    "# Calcular los valores de y\n",
    "for j in j_values:\n",
    "    value = math.sin(math.pi / 2 + math.pi * (10**j))\n",
    "    y_values.append(value)\n",
    "\n",
    "# Crear la gráfica\n",
    "plt.figure(figsize=(10, 5))\n",
    "plt.plot(j_values, y_values, marker='o', linestyle='-', color='b')\n",
    "plt.xlabel('j')\n",
    "plt.ylabel('sin(pi/2 + pi * 10^j)')\n",
    "plt.title('Gráfica de sin(pi/2 + pi * 10^j)')\n",
    "plt.grid(True)\n",
    "plt.show()\n"
   ]
  },
  {
   "cell_type": "markdown",
   "id": "a53c0c5f-29d4-4b08-9c44-0c4b0788ff40",
   "metadata": {},
   "source": [
    "## Ejercicio 8. \n",
    "Mostrar que una serie divergente de términos que tienden a 0 (e.g.: $\\sum_n {\\frac{1}{n}}$ ) podría resultar convergente en aritmética de punto flotante. ¿Qué debería ocurrir para que el resultado numérico sea Inf? ¿Cuál es la mejor estrategia para realizar numéricamente una sumatoria de términos positivos?"
   ]
  },
  {
   "cell_type": "markdown",
   "id": "b6b11774-dd71-402b-ba79-bcb6af43a981",
   "metadata": {},
   "source": [
    "### 1. **Serie Divergente que Converge en Aritmética de Punto Flotante**\n",
    "\n",
    "En teoría matemática, una serie puede ser divergente si la suma de sus términos no converge a un límite finito. Un ejemplo clásico es la serie armónica:\n",
    "\n",
    "$\\ \\sum_{n=1}^{\\infty} \\frac{1}{n} \\$\n",
    "\n",
    "Esta serie es divergente porque sus términos tienden a 0 lentamente y la suma crece sin límite. Sin embargo, en aritmética de punto flotante, debido a la precisión finita, podrías encontrar que una suma de una serie divergente parece converger, o al menos se estabiliza en un valor, por las siguientes razones:\n",
    "\n",
    "- **Redondeo y Error de Truncamiento:** En computación, los números tienen una precisión finita. Cuando se suman muchos términos pequeños, los errores de redondeo y truncamiento pueden acumularse, dando la impresión de que la serie converge a un valor cercano a cero.\n",
    "  \n",
    "- **Precisión Limitada:** En un entorno de punto flotante, después de un número suficiente de sumas, los términos adicionales pueden ser tan pequeños en comparación con el acumulado que se convierten en insignificantes debido a la precisión limitada. Esto puede llevar a la suma a estabilizarse en un valor que parece finito.\n"
   ]
  },
  {
   "cell_type": "code",
   "execution_count": 7,
   "id": "7ac0704c-4097-4882-9cb5-577b6837aed7",
   "metadata": {},
   "outputs": [
    {
     "name": "stdout",
     "output_type": "stream",
     "text": [
      "Suma de los primeros 200 terminos de 1/n : 5.86328125\n",
      "Suma de los primeros 400 terminos de 1/n : 6.64453125\n",
      "Suma de los primeros 600 terminos de 1/n : 7.0859375\n",
      "Suma de los primeros 800 terminos de 1/n : 7.0859375\n",
      "Suma de los primeros 1000 terminos de 1/n : 7.0859375\n"
     ]
    },
    {
     "data": {
      "text/plain": [
       "'Conclusión: la serie armonica converge a 7.0859375 :('"
      ]
     },
     "execution_count": 7,
     "metadata": {},
     "output_type": "execute_result"
    }
   ],
   "source": [
    "# En este caso vemos como la precisión limitada del float16 provoca que después de los 600 términos la suma se estabiliza en 7.085\n",
    "\n",
    "# Hago un doble for para calcular las sumas parciales de 1/n hasta distintos valores\n",
    "for n in range(200,1001,200):\n",
    "    s =  np.float16(0)\n",
    "    for i in range(1,n):\n",
    "        s += np.float16(1/i)\n",
    "    print(f'Suma de los primeros {n} terminos de 1/n : {s}')\n",
    "f'Conclusión: la serie armonica converge a {s} :('"
   ]
  },
  {
   "cell_type": "markdown",
   "id": "9a419f3d-2b79-49c7-af56-14c15897df13",
   "metadata": {},
   "source": [
    "### 2. **Condiciones para que el Resultado Sea `Inf`**\n",
    "\n",
    "Desbordamiento (OverflowError): Esto ocurre cuando **intentas crear o manipular un número que es demasiado grande para ser representado** en el tipo de dato específico. Por ejemplo, cuando se usa float16, los números muy grandes causan un error porque exceden el rango que puede ser representado.\n",
    "\n",
    "Inf (Infinito): Esto ocurre en tipos de datos de punto flotante como float32 o float64 cuando el **resultado de una operación excede el rango máximo representable**. En lugar de causar un error, el sistema representa el resultado como infinito (Inf)."
   ]
  },
  {
   "cell_type": "code",
   "execution_count": 18,
   "id": "de0e6e57-86ed-4308-9f3e-9f8db9778611",
   "metadata": {},
   "outputs": [
    {
     "name": "stdout",
     "output_type": "stream",
     "text": [
      "Suma de términos grandes: inf\n"
     ]
    },
    {
     "name": "stderr",
     "output_type": "stream",
     "text": [
      "/home/abril/anaconda3/lib/python3.12/site-packages/numpy/core/fromnumeric.py:88: RuntimeWarning: overflow encountered in reduce\n",
      "  return ufunc.reduce(obj, axis, dtype, out, **passkwargs)\n"
     ]
    }
   ],
   "source": [
    "import numpy as np\n",
    "\n",
    "# Generar términos grandes usando float64\n",
    "terms = np.array([1e308] * 100, dtype=np.float64)\n",
    "\n",
    "# Calcular la suma\n",
    "large_sum = np.sum(terms)\n",
    "\n",
    "print(f\"Suma de términos grandes: {large_sum}\")\n"
   ]
  },
  {
   "cell_type": "markdown",
   "id": "c9a69a6c-32ee-464a-808b-ad08db76967c",
   "metadata": {},
   "source": [
    "### 3. **Mejor Estrategia para Realizar Numéricamente una Sumatoria de Términos Positivos**\n",
    "\n",
    "Para realizar sumas de términos positivos numéricamente y minimizar los errores, puedes considerar las siguientes estrategias:\n",
    "\n",
    "- **Suma de Kahan (o Corrección de Kahan):** Esta es una técnica para reducir el error de redondeo en la suma de números flotantes. Mantiene una suma de los valores y un acumulador de error para ajustar la suma final.\n",
    "  \n",
    "- **Reordenación de Términos (Método de la Suma por Agrupación):** Para evitar errores acumulativos y mejorar la precisión, agrupa los términos de manera que los términos más grandes se sumen primero. Esto puede reducir el impacto de los términos pequeños en la suma total.\n",
    "\n",
    "- **Método de la Suma de Ternary:** Divide la serie en partes más pequeñas y suma cada parte por separado. Luego, suma los resultados parciales. Esto puede ayudar a manejar mejor los errores acumulativos y reducir el impacto del redondeo.\n",
    "\n",
    "- **Algoritmos de Sumatoria Alternativa:** Usar algoritmos diseñados para manejar sumas de gran cantidad de términos, como el algoritmo de sumas de precisión adaptativa.\n",
    "\n",
    "Estas estrategias ayudan a mantener la precisión en cálculos numéricos, especialmente cuando se trabaja con series de muchos términos o números de precisión limitada."
   ]
  },
  {
   "cell_type": "code",
   "execution_count": 34,
   "id": "5c041abe-b30d-4c3c-aea1-1d2132cd7723",
   "metadata": {},
   "outputs": [
    {
     "name": "stdout",
     "output_type": "stream",
     "text": [
      "Suma de Kahan de los primeros 10000 términos de la serie armónica (float16): 9.7890625\n",
      "Suma agrupada de los primeros 10000 términos de la serie armónica (float16): 9.7734375\n"
     ]
    }
   ],
   "source": [
    "## Suma de Kahan\n",
    "def kahan_sum(array):\n",
    "    \"\"\"\n",
    "    La función kahan_sum realiza la suma de Kahan en la aritmética de float16. \n",
    "    Mantiene una corrección para el error de redondeo durante la suma.\n",
    "    \"\"\"\n",
    "    sum = np.float16(0.0)\n",
    "    c = np.float16(0.0)  # Corrección de error\n",
    "    for x in array:\n",
    "        y = np.float16(x - c)  # Ajusta el valor de x\n",
    "        t = np.float16(sum + y)  # Suma el valor ajustado\n",
    "        c = np.float16((t - sum) - y)  # Calcula el error de la suma\n",
    "        sum = t\n",
    "    return sum\n",
    "\n",
    "# Número de términos en la serie\n",
    "N = 10000\n",
    "harmonic_terms = np.float16(1.0 / np.arange(1, N+1))\n",
    "\n",
    "# Calcular la suma usando la suma de Kahan\n",
    "kahan_harmonic_sum = kahan_sum(harmonic_terms)\n",
    "\n",
    "print(f\"Suma de Kahan de los primeros {N} términos de la serie armónica (float16): {kahan_harmonic_sum}\")\n",
    "\n",
    "\n",
    "## Agrupación de términos\n",
    "def grouped_sum(array, block_size):\n",
    "    \"\"\"\n",
    "    La función grouped_sum suma bloques de términos en la aritmética de float16. \n",
    "    Esto puede ayudar a mejorar la precisión al reducir el número de operaciones en un solo paso.\n",
    "    \"\"\"\n",
    "    total = np.float16(0.0)\n",
    "    for i in range(0, len(array), block_size):\n",
    "        block = array[i:i+block_size]\n",
    "        total += np.float16(np.sum(block))\n",
    "    return total\n",
    "\n",
    "# Número de términos en la serie\n",
    "N = 10000\n",
    "harmonic_terms = np.float16(1.0 / np.arange(1, N+1))\n",
    "\n",
    "# Calcular la suma usando agrupación de términos\n",
    "grouped_harmonic_sum = grouped_sum(harmonic_terms, 100)\n",
    "\n",
    "print(f\"Suma agrupada de los primeros {N} términos de la serie armónica (float16): {grouped_harmonic_sum}\")\n"
   ]
  }
 ],
 "metadata": {
  "kernelspec": {
   "display_name": "Python 3 (ipykernel)",
   "language": "python",
   "name": "python3"
  },
  "language_info": {
   "codemirror_mode": {
    "name": "ipython",
    "version": 3
   },
   "file_extension": ".py",
   "mimetype": "text/x-python",
   "name": "python",
   "nbconvert_exporter": "python",
   "pygments_lexer": "ipython3",
   "version": "3.12.4"
  }
 },
 "nbformat": 4,
 "nbformat_minor": 5
}
